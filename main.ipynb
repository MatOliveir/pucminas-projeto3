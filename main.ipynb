{
 "cells": [
  {
   "cell_type": "code",
   "execution_count": 273,
   "id": "39041a62-758e-4b20-9c17-c95b1a388e09",
   "metadata": {},
   "outputs": [],
   "source": [
    "import pandas as pd\n",
    "from utils.sheet_operator import expenses_sheet\n",
    "from utils.gcp_operator import gcs_writer"
   ]
  },
  {
   "cell_type": "code",
   "execution_count": 274,
   "id": "4f68dd24",
   "metadata": {},
   "outputs": [],
   "source": [
    "df = expenses_sheet()"
   ]
  },
  {
   "cell_type": "code",
   "execution_count": 275,
   "id": "d92453cd",
   "metadata": {},
   "outputs": [],
   "source": [
    "# ajustando a estrutura do DataFrame, removendo o cabeçalho e trazendo a 1a linha para as colunas\n",
    "df.columns = df.iloc[0]\n",
    "df = df[1:].reset_index().drop('index', axis=1)"
   ]
  },
  {
   "cell_type": "code",
   "execution_count": 276,
   "id": "ad296d71",
   "metadata": {},
   "outputs": [],
   "source": [
    "# criando um dicionário para as categorias da planilha\n",
    "categories_indices = df.index[df['filter'] == '1'].tolist()\n",
    "categories_dict = dict()\n",
    "\n",
    "for index in enumerate(categories_indices):\n",
    "    next_index = df.index[-1] if index[0] == len(categories_indices)-1 else categories_indices[index[0]+1]\n",
    "    category = df.iloc[index[1]]['Mês']\n",
    "    categories_dict[category] = df.iloc[index[1]+1:next_index]['Mês'].tolist()"
   ]
  },
  {
   "cell_type": "code",
   "execution_count": 277,
   "id": "1ce6fb4f-be81-4716-aca5-98dfe2b820c6",
   "metadata": {},
   "outputs": [],
   "source": [
    "# removendo as categorias do DataFrame\n",
    "df = df[df['filter'] != '1']\n",
    "df = df.drop('filter', axis=1)"
   ]
  },
  {
   "cell_type": "code",
   "execution_count": 278,
   "id": "570b5795-7f7e-47ee-8bb1-f669d134b7b3",
   "metadata": {},
   "outputs": [],
   "source": [
    "# ajustando a estrutura do DataFrame\n",
    "df = df.transpose().reset_index()\n",
    "df.columns = df.iloc[0]\n",
    "df = df[1:].reset_index().drop('index', axis=1)"
   ]
  },
  {
   "cell_type": "code",
   "execution_count": 279,
   "id": "9ea779f2",
   "metadata": {},
   "outputs": [],
   "source": [
    "# ajustando as colunas de valores de gastos\n",
    "for column in df.columns:\n",
    "    if column != 'Mês':\n",
    "        df[column] = df[column].str.strip().str.replace(r'^R\\$', '', regex=True)\n",
    "        df[column] = df[column].str.replace(r'\\s+', '', regex=True)\n",
    "        df[column] = df[column].str.replace(r'\\.', '', regex=True)\n",
    "        df[column] = df[column].str.replace(r',', '.', regex=True)\n",
    "        df[column] = df[column].astype(float)"
   ]
  },
  {
   "cell_type": "code",
   "execution_count": 280,
   "id": "cfae50da",
   "metadata": {},
   "outputs": [
    {
     "name": "stderr",
     "output_type": "stream",
     "text": [
      "/tmp/ipykernel_49479/3781474281.py:1: UserWarning: Could not infer format, so each element will be parsed individually, falling back to `dateutil`. To ensure parsing is consistent and as-expected, please specify a format.\n",
      "  df['Mês'] = pd.to_datetime(df['Mês'])\n"
     ]
    }
   ],
   "source": [
    "df['Mês'] = pd.to_datetime(df['Mês'])"
   ]
  },
  {
   "cell_type": "code",
   "execution_count": 281,
   "id": "7aea2cdd-71d2-48f6-9dfc-c5a6e0bfc1e5",
   "metadata": {},
   "outputs": [
    {
     "name": "stdout",
     "output_type": "stream",
     "text": [
      "DESPESAS COM PESSOAL\n",
      "MENSAIS VARIÁVEIS - COBRADOS NO BOLETO CONDOMÍNIO\n",
      "MENSAIS FIXO\n",
      "MANUTENÇÃO E CONSERVAÇÃO - (Prováveis de ocorrer*)\n",
      "DESPESAS DIVERSAS\n",
      "DESPESAS ADMINISTRATIVAS\n"
     ]
    }
   ],
   "source": [
    "for i in categories_dict.keys():\n",
    "    print(i)"
   ]
  },
  {
   "cell_type": "code",
   "execution_count": 282,
   "id": "12be4412",
   "metadata": {},
   "outputs": [],
   "source": [
    "# criando dicionário para renomear colunas\n",
    "rename_columns = {\n",
    "    'Mês': 'mes',\n",
    "    # DESPESAS COM PESSOAL\n",
    "    'Total com Salários': 'total_salarios',\n",
    "    'Total com Adiantamento salarial (sempre dia 20)': 'total_adiantamento_salarial',\n",
    "    'Exame médico periódico': 'exame_medico_periodico',\n",
    "    'Férias Vitamar': 'ferias_vitamar',\n",
    "    'Férias Daniel': 'ferias_daniel',\n",
    "    'Férias Fábio': 'ferias_fabio',\n",
    "    'Férias Jailza': 'ferias_jailza',\n",
    "    'Férias Joana': 'ferias_joana',\n",
    "    'Férias Karla': 'ferias_karla',\n",
    "    'Total com Décimo terceiro salário (1 parc - setembro)': 'decimo_terceiro_parcela_1',\n",
    "    'Total com Décimo terceiro salário (2 parc - dezembro)': 'decimo_terceiro_parcela_2',\n",
    "    'Ticket alimentação': 'ticket_alimentacao',\n",
    "    'INSS': 'inss',\n",
    "    'FGTS': 'fgts',\n",
    "    'Pis sobre folha de pagamento': 'pis_folha_pagamento',\n",
    "    'Vale Transporte': 'vale_transporte',\n",
    "    'Seguro de vida dos funcionários': 'seguro_vida',\n",
    "    'Uniformes': 'uniformes'\n",
    "}"
   ]
  },
  {
   "cell_type": "code",
   "execution_count": 283,
   "id": "f38cae84-5dcd-4819-8fbf-90dbbff4b82e",
   "metadata": {},
   "outputs": [],
   "source": [
    "# renomeando colunas\n",
    "columns = categories_dict['DESPESAS COM PESSOAL']\n",
    "columns.insert(0, 'Mês')\n",
    "df = df[columns].rename(columns=rename_columns)"
   ]
  },
  {
   "cell_type": "code",
   "execution_count": 286,
   "id": "5472b9db",
   "metadata": {},
   "outputs": [],
   "source": [
    "gcs_writer(df, 'extensao-cond', 'curated/expenses/people.csv')"
   ]
  },
  {
   "cell_type": "code",
   "execution_count": null,
   "id": "bde3b14d",
   "metadata": {},
   "outputs": [],
   "source": []
  }
 ],
 "metadata": {
  "kernelspec": {
   "display_name": "Python 3 (ipykernel)",
   "language": "python",
   "name": "python3"
  },
  "language_info": {
   "codemirror_mode": {
    "name": "ipython",
    "version": 3
   },
   "file_extension": ".py",
   "mimetype": "text/x-python",
   "name": "python",
   "nbconvert_exporter": "python",
   "pygments_lexer": "ipython3",
   "version": "3.10.12"
  }
 },
 "nbformat": 4,
 "nbformat_minor": 5
}
